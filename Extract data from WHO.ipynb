{
 "cells": [
  {
   "attachments": {},
   "cell_type": "markdown",
   "metadata": {},
   "source": [
    "#### Analysis of Alcohol and Smoking Consuption in Europe \n",
    "#### 2022-11-03"
   ]
  },
  {
   "cell_type": "markdown",
   "metadata": {},
   "source": [
    "We will collect detailed European Health for smoking and alcohol consuption measure,  2022-09-04 from the WHO Europe Health open web API"
   ]
  },
  {
   "cell_type": "code",
   "execution_count": 54,
   "metadata": {},
   "outputs": [],
   "source": [
    "import pandas as pd\n",
    "import requests\n",
    "import zipfile\n",
    "from pathlib import Path\n",
    "import os "
   ]
  },
  {
   "cell_type": "markdown",
   "metadata": {},
   "source": [
    "Settings for the API and data collection."
   ]
  },
  {
   "cell_type": "code",
   "execution_count": 55,
   "metadata": {},
   "outputs": [],
   "source": [
    "# call API do download Alcohl consuption dataset\n",
    "api_alcohol = \"https://dw.euro.who.int/api/v3/export/download/85fbc63e399d4dfd988e3bd105742bc9\"\n",
    "url_alc = requests.get(api_alcohol)"
   ]
  },
  {
   "cell_type": "code",
   "execution_count": 56,
   "metadata": {},
   "outputs": [],
   "source": [
    "dir_raw = Path(\"raw\")\n",
    "dir_raw.mkdir(parents=True, exist_ok=True)"
   ]
  },
  {
   "cell_type": "code",
   "execution_count": 57,
   "metadata": {},
   "outputs": [
    {
     "data": {
      "text/plain": [
       "33825"
      ]
     },
     "execution_count": 57,
     "metadata": {},
     "output_type": "execute_result"
    }
   ],
   "source": [
    "#save the Alcohol consuption dataset\n",
    "open(\"raw/alcoholConsumption.zip\", \"wb\").write(url_alc.content)"
   ]
  },
  {
   "cell_type": "code",
   "execution_count": 58,
   "metadata": {},
   "outputs": [
    {
     "name": "stdout",
     "output_type": "stream",
     "text": [
      "  Measure code COUNTRY_REGION  YEAR  VALUE\n",
      "0      H2020_5            ALB  1962   1.17\n",
      "1      H2020_5            ALB  1963   0.91\n",
      "2      H2020_5            ALB  1964   1.04\n",
      "3      H2020_5            ALB  1965   1.04\n",
      "4      H2020_5            ALB  1966   1.03\n"
     ]
    }
   ],
   "source": [
    "# open Alcohol consuption dataset zip format\n",
    "with zipfile.ZipFile(\"raw/alcoholConsumption.zip\") as p:\n",
    "   with p.open(\"H2020 Data (table).csv\") as f:\n",
    "      alcohol_df = pd.read_csv(f)\n",
    "      alcohol_df.to_csv('raw/alcohol.csv', index=False)\n",
    "      print(alcohol_df.head())"
   ]
  }
 ],
 "metadata": {
  "kernelspec": {
   "display_name": "Python 3 (ipykernel)",
   "language": "python",
   "name": "python3"
  },
  "language_info": {
   "codemirror_mode": {
    "name": "ipython",
    "version": 3
   },
   "file_extension": ".py",
   "mimetype": "text/x-python",
   "name": "python",
   "nbconvert_exporter": "python",
   "pygments_lexer": "ipython3",
   "version": "3.9.12"
  },
  "orig_nbformat": 4,
  "vscode": {
   "interpreter": {
    "hash": "60895510fc8ffa06e3ac94bb2dd5cb9155306d896bb865896acf4936840a3d00"
   }
  }
 },
 "nbformat": 4,
 "nbformat_minor": 2
}
